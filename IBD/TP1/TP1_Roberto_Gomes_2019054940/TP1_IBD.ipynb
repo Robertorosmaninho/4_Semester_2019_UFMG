{
  "nbformat": 4,
  "nbformat_minor": 0,
  "metadata": {
    "colab": {
      "name": "Untitled1.ipynb",
      "provenance": [],
      "collapsed_sections": []
    },
    "kernelspec": {
      "name": "python3",
      "display_name": "Python 3"
    }
  },
  "cells": [
    {
      "cell_type": "markdown",
      "metadata": {
        "id": "NR3Q2CUpucg3",
        "colab_type": "text"
      },
      "source": [
        "Nome: Roberto Gomes Rosmaninho Neto\n",
        "\n",
        "Matricula: 2018054940\n",
        "\n",
        "Questões: 1 - 6 - 5 - 10 - 7 - 2 -> 1 - 2 - 5 - 6 - 7 - 10 \n",
        "\n"
      ]
    },
    {
      "cell_type": "code",
      "metadata": {
        "id": "TvSYtgrmZv7B",
        "colab_type": "code",
        "colab": {}
      },
      "source": [
        "import io\n",
        "import sqlite3\n",
        "import pandas as pd"
      ],
      "execution_count": 0,
      "outputs": []
    },
    {
      "cell_type": "code",
      "metadata": {
        "id": "mXltbRgFcXao",
        "colab_type": "code",
        "colab": {}
      },
      "source": [
        "!wget --quiet -P /tmp/ https://raw.githubusercontent.com/robertorosmaninho/4_Semester_2019_UFMG/master/IBD/TP1/despesa.sql"
      ],
      "execution_count": 0,
      "outputs": []
    },
    {
      "cell_type": "code",
      "metadata": {
        "id": "9pVq65EqdEvr",
        "colab_type": "code",
        "colab": {}
      },
      "source": [
        "conn = sqlite3.connect('/tmp/despesas.db')\n",
        "cursor = conn.cursor()"
      ],
      "execution_count": 0,
      "outputs": []
    },
    {
      "cell_type": "code",
      "metadata": {
        "id": "z6gLIHXsd2Dh",
        "colab_type": "code",
        "outputId": "e293e7c5-6d73-4ecc-caaf-a26f827ad2e7",
        "colab": {
          "base_uri": "https://localhost:8080/",
          "height": 34
        }
      },
      "source": [
        "f = io.open('/tmp/despesa.sql', 'r', encoding='utf-8')\n",
        "sql = f.read()\n",
        "cursor.executescript(sql)"
      ],
      "execution_count": 9,
      "outputs": [
        {
          "output_type": "execute_result",
          "data": {
            "text/plain": [
              "<sqlite3.Cursor at 0x7f88549aee30>"
            ]
          },
          "metadata": {
            "tags": []
          },
          "execution_count": 9
        }
      ]
    },
    {
      "cell_type": "markdown",
      "metadata": {
        "id": "6f5tR1h-r5BY",
        "colab_type": "text"
      },
      "source": [
        "\n",
        "1. Liste todos os códigos e nomes de subfunções da função que possui o maior número de subfunções."
      ]
    },
    {
      "cell_type": "code",
      "metadata": {
        "id": "sY6Jm0NVd7R4",
        "colab_type": "code",
        "colab": {}
      },
      "source": [
        "c1 = pd.read_sql_query(\"select COD_SUBFUNCAO, NOME_SUBFUNCAO from SUBFUNCAO \" + \n",
        "                       \"natural join DETALHAMENTO_FUNCAO natural join (select \" +\n",
        "                       \"COD_FUNCAO, MAX(QTD_SUBFUNCOES) from (select COD_FUNCAO, \" +\n",
        "                       \"count(*) as QTD_SUBFUNCOES from DETALHAMENTO_FUNCAO \"+\n",
        "                       \"group by COD_FUNCAO))\", conn)\n",
        "c1"
      ],
      "execution_count": 0,
      "outputs": []
    },
    {
      "cell_type": "markdown",
      "metadata": {
        "id": "BHhBBSTKsTWP",
        "colab_type": "text"
      },
      "source": [
        "2. Liste o valor total de despesas públicas por funçãoo (nome) e subfunção (nome), apenas nos casos em que esse valor total excedeu 200 mil reais."
      ]
    },
    {
      "cell_type": "code",
      "metadata": {
        "id": "NGUmMSetnxFD",
        "colab_type": "code",
        "colab": {}
      },
      "source": [
        "c2 = pd.read_sql_query(\"select VALOR_DESPESA, NOME_FUNCAO, NOME_SUBFUNCAO from \" +\n",
        "                       \"FUNCAO natural join SUBFUNCAO natural join \" + \n",
        "                       \"DETALHAMENTO_FUNCAO natural join (select \" + \n",
        "                       \"COD_DETALHAMENTO, VALOR_DESPESA from DESPESA_PUBLICA \" + \n",
        "                       \"where VALOR_DESPESA > 200000)\", conn)\n",
        "c2"
      ],
      "execution_count": 0,
      "outputs": []
    },
    {
      "cell_type": "markdown",
      "metadata": {
        "id": "8FnEatV5smRm",
        "colab_type": "text"
      },
      "source": [
        "5. Liste o código e nome dos programas de governo que possuiram os 3 maiores valores de despesas totais na função de educação durante o ano de 2018."
      ]
    },
    {
      "cell_type": "code",
      "metadata": {
        "id": "of0z_x_mrWdu",
        "colab_type": "code",
        "colab": {}
      },
      "source": [
        "c3 = pd.read_sql_query(\"select COD_PROGRAMA_GOVERNO, NOME_PROGRAMA_GOVERNO from \" + \n",
        "                       \"PROGRAMA_GOVERNO where COD_PROGRAMA_GOVERNO in (select \" + \n",
        "                       \"COD_PROGRAMA_GOVERNO from DESPESA_PUBLICA natural join \" + \n",
        "                       \"DETALHAMENTO_FUNCAO natural join FUNCAO where \" + \n",
        "                       \"NOME_FUNCAO = 'Educação' and ANO_DESPESA = 2018 group by \" + \n",
        "                       \" COD_PROGRAMA_GOVERNO order by sum(VALOR_DESPESA) \" + \n",
        "                       \"desc limit 3)\", conn)\n",
        "c3"
      ],
      "execution_count": 0,
      "outputs": []
    },
    {
      "cell_type": "markdown",
      "metadata": {
        "id": "9EjNIBG3teTZ",
        "colab_type": "text"
      },
      "source": [
        "6. Liste todos os nomes de funções e subfunções das despesas públicas do terceiro trimestre de 2018 e seus respectivos valores totais, apenas para o programa MAIS MEDICOS."
      ]
    },
    {
      "cell_type": "code",
      "metadata": {
        "id": "Wzkr_aA7rYBL",
        "colab_type": "code",
        "colab": {}
      },
      "source": [
        "c4 = pd.read_sql_query(\"select NOME_FUNCAO, NOME_SUBFUNCAO, sum(VALOR_DESPESA) \" + \n",
        "                       \"as VALOR_TOTAL from FUNCAO natural join DETALHAMENTO_FUNCAO \" + \n",
        "                       \" natural join SUBFUNCAO natural join(select COD_DETALHAMENTO, \" + \n",
        "                       \"VALOR_DESPESA from DESPESA_PUBLICA natural join \" + \n",
        "                       \"PROGRAMA_GOVERNO where ANO_DESPESA = 2018 and \" + \n",
        "                       \"(MES_DESPESA = 7 or MES_DESPESA = 8 or MES_DESPESA = 9) \" + \n",
        "                       \"and NOME_PROGRAMA_GOVERNO = 'MAIS MEDICOS') group by \" + \n",
        "                       \"NOME_FUNCAO, NOME_SUBFUNCAO\", conn)\n",
        "c4"
      ],
      "execution_count": 0,
      "outputs": []
    },
    {
      "cell_type": "markdown",
      "metadata": {
        "id": "hnZGKnl1txpP",
        "colab_type": "text"
      },
      "source": [
        "7. Liste os órgãos governamentais e a quantidade de programas de governo distintos envolvidos nas despesas públicas desses órgãos. Nesta consulta, desconsidere valores de despesa negativos ou iguais a zero no período."
      ]
    },
    {
      "cell_type": "code",
      "metadata": {
        "id": "kqHvYWcbrYNH",
        "colab_type": "code",
        "colab": {}
      },
      "source": [
        "c5 = pd.read_sql_query(\"select NOME_ORGAO, count(*) from ORGAO natural join \" + \n",
        "                       \"DESPESA_PUBLICA natural join PROGRAMA_GOVERNO where \" + \n",
        "                       \"VALOR_DESPESA > 0 group by NOME_ORGAO\", conn)\n",
        "c5\n"
      ],
      "execution_count": 0,
      "outputs": []
    },
    {
      "cell_type": "markdown",
      "metadata": {
        "id": "tGCsctbTuAiw",
        "colab_type": "text"
      },
      "source": [
        "10. Liste todas as despesas públicas (código da despesa, mês e ano da despesa, modalidade, valor) em que o órgão responsável é aquele que possui o maior valor total em despesas durante o ano de 2018."
      ]
    },
    {
      "cell_type": "code",
      "metadata": {
        "id": "g4_nCyuPrYQE",
        "colab_type": "code",
        "colab": {}
      },
      "source": [
        "c6 = pd.read_sql_query(\"select COD_DESPESA, MES_DESPESA, ANO_DESPESA, \" + \n",
        "                       \"MODALIDADE_DESPESA, VALOR_DESPESA from DESPESA_PUBLICA \" + \n",
        "                       \"where COD_ORGAO in (select COD_ORGAO from ORGAO \" + \n",
        "                       \"natural join DESPESA_PUBLICA group by COD_ORGAO order by \" + \n",
        "                       \"sum(VALOR_DESPESA) desc limit 1)\", conn)\n",
        "c6"
      ],
      "execution_count": 0,
      "outputs": []
    },
    {
      "cell_type": "markdown",
      "metadata": {
        "id": "VG5-2pTWhmLn",
        "colab_type": "text"
      },
      "source": [
        "12. πNOME FUNCAO, NOME SUBFUNCAO(FUNCAO ◃▹ DETALHAMENTO FUNCAO ◃▹ SUBFUNCAO)"
      ]
    },
    {
      "cell_type": "code",
      "metadata": {
        "id": "YseZvLmPrYUn",
        "colab_type": "code",
        "colab": {}
      },
      "source": [
        "c7 = pd.read_sql_query(\"select NOME_FUNCAO, NOME_SUBFUNCAO from FUNCAO \" +\n",
        "                       \"natural join DETALHAMENTO_FUNCAO natural join SUBFUNCAO\", conn)\n",
        "c7"
      ],
      "execution_count": 0,
      "outputs": []
    },
    {
      "cell_type": "markdown",
      "metadata": {
        "id": "WkmJKUyXhtFS",
        "colab_type": "text"
      },
      "source": [
        "13. πMODALIDADE DESPESA, VALOR DESPESA, NOME PROGRAMA GOVERNO(PROGRAMA GOVERNO\n",
        "◃▹ σMODALIDADE DESPESA=‘Reserva de Contingência’(DESPESA PUBLICA))"
      ]
    },
    {
      "cell_type": "code",
      "metadata": {
        "id": "ZXxiapUirYTT",
        "colab_type": "code",
        "colab": {}
      },
      "source": [
        "c8 = pd.read_sql_query(\"select MODALIDADE_DESPESA, VALOR_DESPESA, \" +\n",
        "                       \"NOME_PROGRAMA_GOVERNO from PROGRAMA_GOVERNO natural join \" + \n",
        "                       \"DESPESA_PUBLICA where MODALIDADE_DESPESA = 'Reserva de Contingência'\", conn)\n",
        "c8"
      ],
      "execution_count": 0,
      "outputs": []
    },
    {
      "cell_type": "markdown",
      "metadata": {
        "id": "8JlRipEshw6S",
        "colab_type": "text"
      },
      "source": [
        "14. πVALOR DESPESA, NOME ORGAO(DESPESA PUBLICA\n",
        "◃▹ σNOME ORGAO=‘Ministério da Fazenda’(ORGAO))"
      ]
    },
    {
      "cell_type": "code",
      "metadata": {
        "id": "ZY294ODvrce9",
        "colab_type": "code",
        "colab": {}
      },
      "source": [
        "c9 = pd.read_sql_query(\"select NOME_ORGAO, VALOR_DESPESA from DESPESA_PUBLICA \" + \n",
        "                       \"natural join ORGAO where NOME_ORGAO = 'Ministério da Fazenda'\", conn)\n",
        "c9"
      ],
      "execution_count": 0,
      "outputs": []
    },
    {
      "cell_type": "markdown",
      "metadata": {
        "id": "V-JPvwYkh-IH",
        "colab_type": "text"
      },
      "source": [
        "15. πNOME PROGRAMA GOVERNO, VALOR DESPESA(DESPESA PUBLICA\n",
        "◃▹ σNOME ORGAO=’Minist ́erio da Sau ́de’(ORGAO) ◃▹ PROGRAMA GOVERNO)"
      ]
    },
    {
      "cell_type": "code",
      "metadata": {
        "id": "uD65XCTLrc6t",
        "colab_type": "code",
        "colab": {}
      },
      "source": [
        "c10 = pd.read_sql_query(\"select NOME_PROGRAMA_GOVERNO, VALOR_DESPESA from ORGAO \" +\n",
        "                      \"natural join DESPESA_PUBLICA natural join PROGRAMA_GOVERNO \" + \n",
        "                      \"where NOME_ORGAO = 'Ministério da Saúde'\", conn)\n",
        "c10"
      ],
      "execution_count": 0,
      "outputs": []
    }
  ]
}