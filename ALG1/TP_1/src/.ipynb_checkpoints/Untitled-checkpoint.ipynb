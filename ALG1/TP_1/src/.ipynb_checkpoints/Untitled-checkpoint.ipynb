{
 "cells": [
  {
   "cell_type": "code",
   "execution_count": 3,
   "metadata": {},
   "outputs": [],
   "source": [
    "import random as r\n",
    "import numpy as np\n",
    "import subprocess as sp\n",
    "import time as t\n",
    "from timeit import default_timer as timer"
   ]
  },
  {
   "cell_type": "markdown",
   "metadata": {},
   "source": [
    "### Input File\n",
    " - N, M, I (Vértices, Arestas, Intruções)\n",
    " - 1 <= Ki <= 100 --> 1 <= i <= 100 (Idade de cada Jogador - Vértice)\n",
    " - M linhas com 1 <= X,Y <= N e X != Y (X comanda Y - Aresta direcionada de X para Y)\n",
    " - I linhas com (S X Y) | (C X) | (M), tal que 1 <= X,Y <= N e X != Y (Instruções Swap, Commander, Meeting)"
   ]
  },
  {
   "cell_type": "code",
   "execution_count": 86,
   "metadata": {},
   "outputs": [],
   "source": [
    "def SetCommand(command, I, N):\n",
    "    if(command == \"C\"):\n",
    "        v = list(r.randint(1,N) for _ in range(I))\n",
    "    elif(command == \"M\"):\n",
    "        v = list(\"\" for _ in range(I))\n",
    "    elif(command == \"S\"):\n",
    "        v = []\n",
    "        for k in range(I):\n",
    "            x = r.randint(1,N)\n",
    "            y = r.randint(1,N)\n",
    "            while(x == y):\n",
    "                x = r.randint(1,N)\n",
    "                y = r.randint(1,N)\n",
    "            v.append([x, y])\n",
    "    else:\n",
    "        print(\"Error\")\n",
    "    return v"
   ]
  },
  {
   "cell_type": "code",
   "execution_count": 185,
   "metadata": {},
   "outputs": [],
   "source": [
    "def MyInput(argv):\n",
    "#    if(argv < 2):\n",
    "#        print(\"Usage: ./gen.py [Num Vertices] [Num Commands][Command: C | S | M | * ]\")\n",
    "    N = argv[0]\n",
    "    N = N-1\n",
    "    I = argv[1]\n",
    "    command = argv[2]\n",
    "    commands = [\"C\", \"S\", \"M\"]\n",
    "    file = open(\"in.txt\", \"w\")\n",
    "    for i in range(10):\n",
    "        ages = []\n",
    "        for j in range(N):\n",
    "            ages.append(r.randint(1,100))\n",
    "\n",
    "        p = np.vstack([ np.array([(i, j) for j in range(i + 1, N)]) for i in range(N - 1)])\n",
    "        r.seed(t.time_ns())\n",
    "        np.random.shuffle(p)\n",
    "        M = r.randint(N - 1, round(N * (N - 1) / 4))\n",
    "        edges = p[:M]\n",
    "        Map = np.random.permutation(N)\n",
    "        edges = list(map(lambda x: (Map[x[0]], Map[x[1]]),edges))\n",
    "        \n",
    "        if command == \"*\":\n",
    "            c = r.choice(commands)\n",
    "        else:\n",
    "            c = command\n",
    "        C = SetCommand(c, I, N)\n",
    "    \n",
    "    file.write(str(N)+\" \"+str(N)+\" \"+str(I)+\"\\n\")\n",
    "    file.write(\" \".join(str(age) for age in ages))\n",
    "    file.write(\"\\n\")\n",
    "    for e in edges:\n",
    "        file.write(str(e[0]+1) + \" \" + str(e[1]+1) + \"\\n\")\n",
    "    for l in C:\n",
    "        if(c == \"S\"):\n",
    "            file.write(c + \" \" + (l[0]) + \" \" + str(l[1]) + \"\\n\")\n",
    "        else:\n",
    "            file.write(c + \" \" + str(l) + \"\\n\")\n",
    "    file.close()\n",
    "    return file"
   ]
  },
  {
   "cell_type": "code",
   "execution_count": 188,
   "metadata": {},
   "outputs": [],
   "source": []
  },
  {
   "cell_type": "code",
   "execution_count": 11,
   "metadata": {},
   "outputs": [],
   "source": [
    "def main(argv):\n",
    "    size = [10, 20, 30, 40, 50, 60, 70, 80, 90, 100]\n",
    "    type = [\"C\", \"S\", \"M\"]\n",
    "    for i in range(10):\n",
    "        for i in range(3):\n",
    "            sp.Popen([\"sh\",\"bench.sh\", str(size[i]), str(type[s])])\n",
    "            #Inicia a contagem do tempo\n",
    "            start = timer()\n",
    "            #Executa o programa com a entrada f\n",
    "            out = sp.Popen([\"./tp1\", \"in.txt\"])\n",
    "            #Finaliza a contagem do tempo\n",
    "            end = timer()\n",
    "            print(end-start)"
   ]
  },
  {
   "cell_type": "code",
   "execution_count": 12,
   "metadata": {},
   "outputs": [
    {
     "name": "stdout",
     "output_type": "stream",
     "text": [
      "0.00844566700001792\n",
      "0.006979422999989993\n",
      "0.01049736399997414\n",
      "0.011849979000004396\n",
      "0.011448911000002227\n",
      "0.008630117999985032\n",
      "0.007322952999999188\n",
      "0.019273365999993075\n",
      "0.14492404999998598\n",
      "0.02723215599999662\n",
      "0.007991544000020667\n",
      "0.2385720739999897\n",
      "0.016032303999992337\n",
      "0.010109480000011217\n",
      "0.008128554999984772\n",
      "0.2957541879999894\n",
      "0.009608920000005128\n",
      "0.008653102000010904\n",
      "0.04334662399998024\n",
      "0.008777309000009836\n",
      "0.008681130999974584\n",
      "0.011674355999986119\n",
      "0.00935597100001928\n",
      "0.05913113599999065\n",
      "0.009737847999986116\n",
      "0.011314647999995486\n",
      "0.46149864000000207\n",
      "0.009419562999994469\n",
      "0.007950905000001285\n",
      "0.009130036000016162\n"
     ]
    }
   ],
   "source": [
    "main([\"C\"])"
   ]
  },
  {
   "cell_type": "code",
   "execution_count": null,
   "metadata": {},
   "outputs": [],
   "source": []
  },
  {
   "cell_type": "code",
   "execution_count": null,
   "metadata": {},
   "outputs": [],
   "source": []
  }
 ],
 "metadata": {
  "kernelspec": {
   "display_name": "Python 3",
   "language": "python",
   "name": "python3"
  },
  "language_info": {
   "codemirror_mode": {
    "name": "ipython",
    "version": 3
   },
   "file_extension": ".py",
   "mimetype": "text/x-python",
   "name": "python",
   "nbconvert_exporter": "python",
   "pygments_lexer": "ipython3",
   "version": "3.7.1"
  }
 },
 "nbformat": 4,
 "nbformat_minor": 2
}
