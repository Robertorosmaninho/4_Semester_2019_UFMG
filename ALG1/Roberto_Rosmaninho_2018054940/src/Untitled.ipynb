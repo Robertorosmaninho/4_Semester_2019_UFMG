{
 "cells": [
  {
   "cell_type": "code",
   "execution_count": 76,
   "metadata": {},
   "outputs": [],
   "source": [
    "import numpy as np\n",
    "import pandas as pd\n",
    "from scipy import stats\n",
    "import statistics as st"
   ]
  },
  {
   "cell_type": "code",
   "execution_count": 80,
   "metadata": {},
   "outputs": [],
   "source": [
    "data = []\n",
    "for i in range(1,11):\n",
    "    file_input = open(\"inputs/S/in_S_\"+str(i)+\"0.txt\")\n",
    "    times = np.genfromtxt(\"results/time__S_\"+str(i)+\"0.txt\")\n",
    "\n",
    "    line_in = file_input.readline().split(' ')\n",
    "    mean, stdev = stats.norm.fit(times)\n",
    "\n",
    "    N = line_in[0]\n",
    "    M = line_in[1]\n",
    "    Sum = int(N)+int(M)\n",
    "\n",
    "    data.append({\"N\": N, \"M\": M, \"N+M\": Sum, \"Mean\": mean, \"St Dev\": int(stdev)})\n",
    "\n",
    "out = pd.DataFrame(data)\n",
    "out = out[[\"N\", \"M\", \"N+M\", \"Mean\", \"St Dev\"]]\n",
    "out.to_csv(\"results/final/s_stats.csv\")"
   ]
  },
  {
   "cell_type": "code",
   "execution_count": 81,
   "metadata": {},
   "outputs": [],
   "source": [
    "data = []\n",
    "for i in range(1,11):\n",
    "    file_input = open(\"inputs/M/in_M_\"+str(i)+\"0.txt\")\n",
    "    times = np.genfromtxt(\"results/time__M_\"+str(i)+\"0.txt\")\n",
    "\n",
    "    line_in = file_input.readline().split(' ')\n",
    "    mean, stdev = stats.norm.fit(times)\n",
    "\n",
    "    N = line_in[0]\n",
    "    M = line_in[1]\n",
    "    Sum = int(N)+int(M)\n",
    "\n",
    "    data.append({\"N\": N, \"M\": M, \"N+M\": Sum, \"Mean\": mean, \"St Dev\": int(stdev)})\n",
    "\n",
    "out = pd.DataFrame(data)\n",
    "out = out[[\"N\", \"M\", \"N+M\", \"Mean\", \"St Dev\"]]\n",
    "out.to_csv(\"results/final/m_stats.csv\")"
   ]
  },
  {
   "cell_type": "code",
   "execution_count": 82,
   "metadata": {},
   "outputs": [],
   "source": [
    "data = []\n",
    "for i in range(1,11):\n",
    "    file_input = open(\"inputs/C/in_C_\"+str(i)+\"0.txt\")\n",
    "    times = np.genfromtxt(\"results/time__C_\"+str(i)+\"0.txt\")\n",
    "\n",
    "    line_in = file_input.readline().split(' ')\n",
    "    mean, stdev = stats.norm.fit(times)\n",
    "\n",
    "    N = line_in[0]\n",
    "    M = line_in[1]\n",
    "    Sum = int(N)+int(M)\n",
    "\n",
    "    data.append({\"N\": N, \"M\": M, \"N+M\": Sum, \"Mean\": mean, \"St Dev\": int(stdev)})\n",
    "\n",
    "out = pd.DataFrame(data)\n",
    "out = out[[\"N\", \"M\", \"N+M\", \"Mean\", \"St Dev\"]]\n",
    "out.to_csv(\"results/final/c_stats.csv\")"
   ]
  },
  {
   "cell_type": "code",
   "execution_count": null,
   "metadata": {},
   "outputs": [],
   "source": []
  }
 ],
 "metadata": {
  "kernelspec": {
   "display_name": "Python 3",
   "language": "python",
   "name": "python3"
  },
  "language_info": {
   "codemirror_mode": {
    "name": "ipython",
    "version": 3
   },
   "file_extension": ".py",
   "mimetype": "text/x-python",
   "name": "python",
   "nbconvert_exporter": "python",
   "pygments_lexer": "ipython3",
   "version": "3.7.1"
  }
 },
 "nbformat": 4,
 "nbformat_minor": 2
}
